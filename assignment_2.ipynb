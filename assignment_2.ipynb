{
 "cells": [
  {
   "cell_type": "code",
   "execution_count": null,
   "id": "f308c1a5-1608-4d6a-91bf-35f46623919b",
   "metadata": {},
   "outputs": [],
   "source": [
    "#Q1. How do you comment code in Python? What are the different types of comments?\n",
    "#**ANSWER**: \n",
    "#Comments in Python are the lines in the code that are ignored by the interpreter during the execution of the program.\n",
    "#It enhance the readability of code.\n",
    "#Types of comments:there are two types of comments.\n",
    "#a) single line comments :Python single-line comment starts with the hashtag symbol (#) with no white spaces and lasts till the end of the \n",
    "#line. If the comment exceeds one line then put a hashtag on the next line and continue the comment.for example:\n",
    "#PRINT INTEGER:(this does not effect on code)\n",
    "print(95)\n",
    "#b) multipleline comments:we  can use the strings with triple quotes(\"\"\" \"\"\") as multiline comments.And also(#).for example:\n",
    "\"\"\" Python program to demonstrate\n",
    "multiline comments\"\"\"\n",
    "print(\"Hi how are you :\")\n"
   ]
  },
  {
   "cell_type": "code",
   "execution_count": null,
   "id": "389633f0-9413-4f47-840b-0f8c5be7f330",
   "metadata": {},
   "outputs": [],
   "source": [
    "# Q2. What are variables in Python? How do you declare and assign values to variables?\n",
    "#** ANSWER**:\n",
    "#VARIABLES: Variable is container that store values .A Python variable is a name given to a memory location.\n",
    "\n",
    "# declaring the var\n",
    "Number = 100\n",
    "a=\"hello\"\n",
    "list=[5,6,\"hi\"]\n",
    "# display\n",
    "print( Number)\n",
    "print(a)\n",
    "print(list)"
   ]
  },
  {
   "cell_type": "code",
   "execution_count": null,
   "id": "f43e5d56-5b97-4343-9ea2-08b1aaee6191",
   "metadata": {},
   "outputs": [],
   "source": [
    "#Q3. How do you convert one data type to another in Python?\n",
    "# we can convert one data type to another by using type converson.For example:\n",
    "#** ANSWER**:\n",
    "\n",
    "number=9.67\n",
    "print(\" type of number is :\",type(number))\n",
    "number1=int(number)\n",
    "print(number1)\n",
    "print(\"After converting type of number is :\",type(number1))\n",
    "#another example\n",
    "ch=\"90\"\n",
    "print(\" type of number is :\",type(ch))\n",
    "ch1=float(ch)\n",
    "print(ch1)\n",
    "print(\"After converting type of ch is :\",type(ch1))\n",
    "\n"
   ]
  },
  {
   "cell_type": "code",
   "execution_count": null,
   "id": "1fc215c4-7b86-4c44-a30b-cc07f8285de1",
   "metadata": {},
   "outputs": [],
   "source": [
    "#Q4. How do you write and execute a Python script from the command line?\n",
    "#**ANSWER**\n",
    "\n",
    "# To write a Python script, we can follow these steps:\n",
    "# Open a python compiler like jupyter , vs code ,replit.\n",
    "# for example we choose replit.\n",
    "# Write your Python code in the replit .\n",
    "# Save the file with a .py extension( ctrl+s).\n",
    "# Run your program using ctrl + enter for example.\n",
    "print( \" hello \")\n"
   ]
  },
  {
   "cell_type": "code",
   "execution_count": null,
   "id": "a2c3b8a3-3a55-44d5-96ed-095a87d26b37",
   "metadata": {},
   "outputs": [],
   "source": [
    "#Q5. Given a list my_list = [1, 2, 3, 4, 5], write the code to slice the list and obtain the sub-list [2, 3].\n",
    "#** ANSWER**:\n",
    "\n",
    "my_list=[1,2,3,4,5]\n",
    "print(my_list[1:3])"
   ]
  },
  {
   "cell_type": "code",
   "execution_count": null,
   "id": "aaedeec3-2208-46d0-9552-aa293e6d042d",
   "metadata": {},
   "outputs": [],
   "source": [
    "#Q6. What is a complex number in mathematics, and how is it represented in Python?\n",
    "#**ANSWER**:\n",
    "# Complex numbers are the numbers that are expressed in the form of a+ib where, a,b are real numbers and  ‘i’ is an imaginary number \n",
    "# called “iota”.The value of i = (√-1).\n",
    "# For example, 2+3i is a complex number, where 2 is a real number (Re) and 3i is an imaginary number (Im) . BUT in python iota replace by j \n",
    "#i.e. a+bj where a and b are real numbers.\n",
    "#** ANSWER**:\n",
    "\n",
    "a=3+7j\n",
    "print(\"type of :\",a ,type(a))\n",
    "\n"
   ]
  },
  {
   "cell_type": "code",
   "execution_count": null,
   "id": "3b7315cd-c5d6-40fe-88db-f997da6c6cee",
   "metadata": {},
   "outputs": [],
   "source": [
    "#Q7. What is the correct way to declare a variable named age and assign the value 25 to it?\n",
    "#create a variable name age\n",
    "#** ANSWER**:\n",
    "\n",
    "age=25\n",
    "print(age)\n",
    "print('The type of age is :',type(age))"
   ]
  },
  {
   "cell_type": "code",
   "execution_count": null,
   "id": "284f5886-dd55-4494-a8b8-962165417e37",
   "metadata": {},
   "outputs": [],
   "source": [
    "#Q8. Declare a variable named price and assign the value 9.99 to it. What data type does this variable\n",
    "#belong to?\n",
    "#** ANSWER**:\n",
    "\n",
    "price=9.99\n",
    "print(type(price))"
   ]
  },
  {
   "cell_type": "code",
   "execution_count": null,
   "id": "b9722c84-65da-4b37-bf78-3a6e80958aac",
   "metadata": {},
   "outputs": [],
   "source": [
    "#Q9. Create a variable named name and assign your full name to it as a string. How would you print the\n",
    "#value of this variable?\n",
    "#** ANSWER**:\n",
    "\n",
    "name='Anjali Dhull'\n",
    "print(\"My name is \",name)"
   ]
  },
  {
   "cell_type": "code",
   "execution_count": null,
   "id": "20038826-93a6-45ff-82ea-06364d243ee4",
   "metadata": {},
   "outputs": [],
   "source": [
    "#Q10. Given the string \"Hello, World!\", extract the substring \"World\".\n",
    "#** ANSWER**:\n",
    "\n",
    "word=\"Hello, World!\"\n",
    "print(word[7:12])"
   ]
  },
  {
   "cell_type": "code",
   "execution_count": null,
   "id": "318ed3ad-eba8-45d1-a8cb-73a309fb149b",
   "metadata": {},
   "outputs": [],
   "source": [
    "# Q11. Create a variable named \"is_student\" and assign it a boolean value indicating whether you are\n",
    "# currently a student or not.\n",
    "#** ANSWER**:\n",
    "\n",
    "is_student=int(input(\" enter  1 as True   or  0 as False :\"))\n",
    "if is_student==1:\n",
    "    print(\" It is True i am a student .\")\n",
    "elif is_student== 0:\n",
    "    print(\"It is False i am not a student .\")\n"
   ]
  },
  {
   "cell_type": "code",
   "execution_count": null,
   "id": "19754fde-a1f9-440d-98ec-5dd93bcef130",
   "metadata": {},
   "outputs": [],
   "source": [
    "\n"
   ]
  }
 ],
 "metadata": {
  "kernelspec": {
   "display_name": "Python 3 (ipykernel)",
   "language": "python",
   "name": "python3"
  },
  "language_info": {
   "codemirror_mode": {
    "name": "ipython",
    "version": 3
   },
   "file_extension": ".py",
   "mimetype": "text/x-python",
   "name": "python",
   "nbconvert_exporter": "python",
   "pygments_lexer": "ipython3",
   "version": "3.10.8"
  }
 },
 "nbformat": 4,
 "nbformat_minor": 5
}
